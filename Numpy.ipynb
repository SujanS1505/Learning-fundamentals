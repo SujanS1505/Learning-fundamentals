{
 "cells": [
  {
   "cell_type": "code",
   "execution_count": 1,
   "id": "2a559ca6",
   "metadata": {},
   "outputs": [
    {
     "name": "stdout",
     "output_type": "stream",
     "text": [
      "[1 2 3 4 5]\n",
      "<class 'numpy.ndarray'>\n",
      "(5,)\n",
      "int32\n",
      "1\n",
      "5\n"
     ]
    }
   ],
   "source": [
    "import numpy as np\n",
    "\n",
    "l=[1,2,3,4,5]\n",
    "ar=np.array(l)\n",
    "\n",
    "print(ar)\n",
    "print(type(ar))\n",
    "print(ar.shape)\n",
    "print(ar.dtype)\n",
    "print(ar.ndim)\n",
    "print(ar.size)"
   ]
  },
  {
   "cell_type": "code",
   "execution_count": 2,
   "id": "a0c36ded",
   "metadata": {},
   "outputs": [
    {
     "name": "stdout",
     "output_type": "stream",
     "text": [
      "[[ 1  2  3  4  5]\n",
      " [ 6  7  8  9 10]\n",
      " [11 12 13 14 15]] \n",
      "\n",
      "(3, 5) \n",
      "\n",
      "[[ 1  2  3]\n",
      " [ 4  5  6]\n",
      " [ 7  8  9]\n",
      " [10 11 12]\n",
      " [13 14 15]] \n",
      "\n",
      "[[ 9 10]\n",
      " [14 15]]\n"
     ]
    }
   ],
   "source": [
    "l1=[1,2,3,4,5]\n",
    "l2=[6,7,8,9,10]\n",
    "l3=[11,12,13,14,15]\n",
    "mda=np.array([l1,l2,l3])\n",
    "\n",
    "print(mda,'\\n')\n",
    "print(mda.shape,'\\n')\n",
    "\n",
    "print(mda.reshape(5,3),'\\n')\n",
    "\n",
    "print(mda[1:,3:])\n",
    "\n",
    "\n"
   ]
  },
  {
   "cell_type": "code",
   "execution_count": 3,
   "id": "115d0584",
   "metadata": {},
   "outputs": [
    {
     "name": "stdout",
     "output_type": "stream",
     "text": [
      "4\n",
      "[ 1  2 10 10  5]\n"
     ]
    }
   ],
   "source": [
    "arr=np.array([1,2,3,4,5])\n",
    "print(arr[3])\n",
    "\n",
    "arr[2:4] = 10\n",
    "print(arr)"
   ]
  },
  {
   "cell_type": "code",
   "execution_count": 4,
   "id": "50332796",
   "metadata": {},
   "outputs": [
    {
     "name": "stdout",
     "output_type": "stream",
     "text": [
      "[0 1 2 3 4 5 6 7 8 9]\n",
      "[0 2 4 6 8] \n",
      "\n",
      "[  0   1   2 100 100 100 100 100 100 100]\n",
      "[  0   1   2 500 500 500 500 500 500 500]\n",
      "[  0   1   2 500 500 500 500 500 500 500]\n"
     ]
    }
   ],
   "source": [
    "arr=np.arange(0,10)\n",
    "v=np.arange(0,10,2)\n",
    "\n",
    "print(arr)\n",
    "print(v,'\\n')\n",
    "\n",
    "#broadcasting\n",
    "arr[3:]=100\n",
    "print(arr)\n",
    "\n",
    "ar1=arr\n",
    "ar1[3:]=500\n",
    "print(ar1)\n",
    "print(arr)"
   ]
  },
  {
   "cell_type": "code",
   "execution_count": 5,
   "id": "1ff2086d",
   "metadata": {},
   "outputs": [
    {
     "name": "stdout",
     "output_type": "stream",
     "text": [
      "[False False False  True  True]\n",
      "[4 5] \n",
      "\n",
      "[ True  True False False False] \n",
      "\n",
      "[ 3  6  9 12 15]\n"
     ]
    }
   ],
   "source": [
    "arr=np.array([1,2,3,4,5])\n",
    "var=3\n",
    "print(arr>3)\n",
    "print(arr[arr>3],'\\n')\n",
    "\n",
    "print(arr<=2,'\\n')\n",
    "\n",
    "print(arr*var)\n"
   ]
  },
  {
   "cell_type": "code",
   "execution_count": 6,
   "id": "32daf04d",
   "metadata": {},
   "outputs": [
    {
     "name": "stdout",
     "output_type": "stream",
     "text": [
      "[[0 1]\n",
      " [2 3]\n",
      " [4 5]\n",
      " [6 7]\n",
      " [8 9]]\n",
      "\n",
      "[[0 1 2 3 4]\n",
      " [5 6 7 8 9]]\n"
     ]
    }
   ],
   "source": [
    "print(np.arange(0,10).reshape(5,2)) # 5 rows, 2 columns\n",
    "\n",
    "print()\n",
    "\n",
    "print(np.arange(0,10).reshape(2,5)) # 2 rows,\n"
   ]
  },
  {
   "cell_type": "code",
   "execution_count": 42,
   "id": "a13cc67d",
   "metadata": {},
   "outputs": [
    {
     "name": "stdout",
     "output_type": "stream",
     "text": [
      "[[0.65591733 0.54414302 0.33626551]\n",
      " [0.49398825 0.9251087  0.67105539]\n",
      " [0.22444689 0.73315378 0.35451229]]\n",
      "\n",
      "[4 8 9 9 5 9]\n",
      "\n",
      "[[8 1 7]\n",
      " [3 3 2]\n",
      " [6 9 2]]\n"
     ]
    }
   ],
   "source": [
    "print(np.random.rand(3,3))# Random values in (0.0, 1.0)\n",
    "print()\n",
    "\n",
    "print(np.random.randint(2,10,6))# Random integers from low (inclusive) to high (exclusive)\n",
    "print()\n",
    "\n",
    "print(np.random.randint(1,10,(3,3)))# Random integers from low (inclusive) to high (exclusive)"
   ]
  }
 ],
 "metadata": {
  "kernelspec": {
   "display_name": "Python 3",
   "language": "python",
   "name": "python3"
  },
  "language_info": {
   "codemirror_mode": {
    "name": "ipython",
    "version": 3
   },
   "file_extension": ".py",
   "mimetype": "text/x-python",
   "name": "python",
   "nbconvert_exporter": "python",
   "pygments_lexer": "ipython3",
   "version": "3.11.9"
  }
 },
 "nbformat": 4,
 "nbformat_minor": 5
}
